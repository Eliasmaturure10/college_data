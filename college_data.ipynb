{
 "cells": [
  {
   "cell_type": "code",
   "execution_count": 10,
   "id": "cb91755c",
   "metadata": {},
   "outputs": [
    {
     "name": "stdout",
     "output_type": "stream",
     "text": [
      "                               Private   Apps  Accept  Enroll  Top10perc  \\\n",
      "Abilene Christian University       Yes   1660    1232     721         23   \n",
      "Adelphi University                 Yes   2186    1924     512         16   \n",
      "Adrian College                     Yes   1428    1097     336         22   \n",
      "Agnes Scott College                Yes    417     349     137         60   \n",
      "Alaska Pacific University          Yes    193     146      55         16   \n",
      "...                                ...    ...     ...     ...        ...   \n",
      "Worcester State College             No   2197    1515     543          4   \n",
      "Xavier University                  Yes   1959    1805     695         24   \n",
      "Xavier University of Louisiana     Yes   2097    1915     695         34   \n",
      "Yale University                    Yes  10705    2453    1317         95   \n",
      "York College of Pennsylvania       Yes   2989    1855     691         28   \n",
      "\n",
      "                                Top25perc  F.Undergrad  P.Undergrad  Outstate  \\\n",
      "Abilene Christian University           52         2885          537      7440   \n",
      "Adelphi University                     29         2683         1227     12280   \n",
      "Adrian College                         50         1036           99     11250   \n",
      "Agnes Scott College                    89          510           63     12960   \n",
      "Alaska Pacific University              44          249          869      7560   \n",
      "...                                   ...          ...          ...       ...   \n",
      "Worcester State College                26         3089         2029      6797   \n",
      "Xavier University                      47         2849         1107     11520   \n",
      "Xavier University of Louisiana         61         2793          166      6900   \n",
      "Yale University                        99         5217           83     19840   \n",
      "York College of Pennsylvania           63         2988         1726      4990   \n",
      "\n",
      "                                Room.Board  Books  Personal  PhD  Terminal  \\\n",
      "Abilene Christian University          3300    450      2200   70        78   \n",
      "Adelphi University                    6450    750      1500   29        30   \n",
      "Adrian College                        3750    400      1165   53        66   \n",
      "Agnes Scott College                   5450    450       875   92        97   \n",
      "Alaska Pacific University             4120    800      1500   76        72   \n",
      "...                                    ...    ...       ...  ...       ...   \n",
      "Worcester State College               3900    500      1200   60        60   \n",
      "Xavier University                     4960    600      1250   73        75   \n",
      "Xavier University of Louisiana        4200    617       781   67        75   \n",
      "Yale University                       6510    630      2115   96        96   \n",
      "York College of Pennsylvania          3560    500      1250   75        75   \n",
      "\n",
      "                                S.F.Ratio  perc.alumni  Expend  Grad.Rate  \n",
      "Abilene Christian University         18.1           12    7041         60  \n",
      "Adelphi University                   12.2           16   10527         56  \n",
      "Adrian College                       12.9           30    8735         54  \n",
      "Agnes Scott College                   7.7           37   19016         59  \n",
      "Alaska Pacific University            11.9            2   10922         15  \n",
      "...                                   ...          ...     ...        ...  \n",
      "Worcester State College              21.0           14    4469         40  \n",
      "Xavier University                    13.3           31    9189         83  \n",
      "Xavier University of Louisiana       14.4           20    8323         49  \n",
      "Yale University                       5.8           49   40386         99  \n",
      "York College of Pennsylvania         18.1           28    4509         99  \n",
      "\n",
      "[777 rows x 18 columns]\n"
     ]
    }
   ],
   "source": [
    "import pandas as pd\n",
    "\n",
    "# The file is a CSV, not an Excel file, so we use pd.read_csv()\n",
    "# We also specify index_col=0 to use the first column as the DataFrame index.\n",
    "df = pd.read_csv(\"College_Data.xls\", index_col=0)\n",
    "\n",
    "# Display the DataFrame\n",
    "print(df)\n"
   ]
  }
 ],
 "metadata": {
  "kernelspec": {
   "display_name": "base",
   "language": "python",
   "name": "python3"
  },
  "language_info": {
   "codemirror_mode": {
    "name": "ipython",
    "version": 3
   },
   "file_extension": ".py",
   "mimetype": "text/x-python",
   "name": "python",
   "nbconvert_exporter": "python",
   "pygments_lexer": "ipython3",
   "version": "3.13.5"
  }
 },
 "nbformat": 4,
 "nbformat_minor": 5
}
